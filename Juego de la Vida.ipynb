{
 "cells": [
  {
   "cell_type": "markdown",
   "metadata": {},
   "source": [
    "## El juego de la vida\n",
    "\n",
    "Es un autómata celular diseñado por el matemático británico John Horton Conway en 1970.\n",
    "\n",
    "Hizo su primera aparición pública en el número de octubre de 1970 de la revista Scientific American, en la columna de juegos matemáticos de Martin Gardner. Desde un punto de vista teórico, es interesante porque es equivalente a una máquina universal de Turing, es decir, todo lo que se puede computar algorítmicamente se puede computar en el juego de la vida.\n",
    "Desde su publicación, ha atraído mucho interés debido a la gran variabilidad de la evolución de los patrones. Se considera que la vida es un buen ejemplo de emergencia y auto organización. Es interesante para los científicos, matemáticos, economistas y otros observar cómo patrones complejos pueden provenir de la implementación de reglas muy sencillas.\n",
    "\n",
    "### Formulación del problema\n",
    "\n",
    "En este caso se implementará las vocales en cual permitirá identificar el número de células vivas y muertas después de la implantación con un límite finito de iteración\n",
    "\n",
    "### Resultados Esperados\n",
    "\n",
    "Obtener de la simulación es conocer la relación que existe entre la complejidad de cómo se graficó la vocal y las células que quedan vivas \n",
    "\n",
    "### Plan de experimentación \n",
    "\n",
    "En este caso se implantará las 5 vocales y el usuario podrá implementar las iteraciones que deseen hacer entre las distintas vocales.\n",
    "\n",
    "### Tiempo Disponible\n",
    "\n",
    "Tendremso dos semanas para realizar la simulación\n",
    "\n",
    "### Variables de Interés\n",
    "\n",
    "* Numero de células vivas \n",
    "* Numero de células muertas\n",
    "* Numero de iteraciones\n",
    "* Tamaño de las vocales\n"
   ]
  },
  {
   "cell_type": "code",
   "execution_count": 2,
   "metadata": {},
   "outputs": [],
   "source": [
    "from collections import Counter\n",
    "\n",
    "def next_generation(world):\n",
    "    \"The set of live cells in the next generation.\"\n",
    "    possible_cells = counts = neighbor_counts(world)\n",
    "    return {cell for cell in possible_cells\n",
    "            if (counts[cell] == 3) \n",
    "            or (counts[cell] == 2 and cell in world)}\n",
    "\n",
    "def neighbor_counts(world):\n",
    "    \"A {cell: int} counter of the number of live neighbors for each cell that has neighbors.\"\n",
    "    return Counter(nb for cell in world \n",
    "                      for nb in neighbors(cell))\n",
    "\n",
    "def neighbors(cell):\n",
    "    \"All 8 adjacent neighbors of cell.\"\n",
    "    (x, y) = cell\n",
    "    return [(x-1, y-1), (x, y-1), (x+1, y-1), \n",
    "            (x-1, y),             (x+1, y), \n",
    "            (x-1, y+1), (x, y+1), (x+1, y+1)]"
   ]
  },
  {
   "cell_type": "markdown",
   "metadata": {},
   "source": [
    "# Matriz \n",
    "\n",
    "#### Letra A\n",
    "\n",
    "world = {(2, 7), (3, 6), (4, 5), (5, 4), (4, 6), (5, 6), (6, 6), (6, 5), (7, 6), (8, 7)}\n",
    "\n",
    "#### Letra E\n",
    "\n",
    "world = {(4, 3), (5, 3), (6, 3), (7, 3), (4, 4), (4, 5), (4, 6), (4, 7), (4, 8), (4, 9), (5, 9), (6, 9), (7, 9), (5, 6), (6, 6)}\n",
    "\n",
    "#### Letra I\n",
    "\n",
    "world = {(4, 3), (5, 3), (6, 3), (7, 3), (8, 3), (6, 4), (6, 5), (6, 6), (6, 7), (6, 9), (4, 9), (5, 9), (7, 9), (8, 9), (6, 8)}\n",
    "\n",
    "#### Letra O\n",
    "\n",
    "world = {(5, 3), (6, 3), (4, 4), (4, 6), (4, 7), (4, 8), (5, 9), (6, 9), (7, 4), (7, 5), (7, 6), (7, 7), (7, 8), (4, 4), (4, 5)}\n",
    "\n",
    "#### Letra U\n",
    "\n",
    "world = {(4, 4), (4, 6), (4, 7), (4, 8), (5, 9), (6, 9), (7, 4), (7, 5), (7, 6), (7, 7), (7, 8), (4, 4), (4, 5)}\n",
    "\n",
    "#### Letra H\n",
    "\n",
    "world = {(4, 3), (7, 3), (4, 4), (4, 6), (4, 7), (4, 8), (7, 4), (7, 5), (7, 6), (7, 7), (7, 8), (4, 4), (4, 5), (4, 9), (7, 9), (5, 6), (6, 6)}\n",
    "\n",
    "#### EDWIN\n",
    "\n",
    "world = {(4, 3), (4, 4), (4, 5), (4, 6), (4, 7), (5, 3), (5, 5), (5, 7), (6, 3), (6, 7), (8, 3), (8, 4), (8, 5), (8, 6), (8, 7), (9, 3), (9, 7),  (10, 4), (10, 5), (10, 6), (12, 3), (13, 4), (13, 5), (13, 6), (13, 7), (14, 6), (15, 5), (15, 4), (16, 6), (17, 7), (17, 6), (17, 6), (17, 5), (17, 4), (18, 3), (20, 3) , (21, 3) , (22, 3) , (23, 3) , (24, 3) , (22, 4) , (22, 5) , (22, 6) , (22, 7) , (20, 7) , (21, 7) , (22, 7) , (23, 7), (24, 7) , (26, 3) , (26, 4) , (26, 5) , (26, 6) , (26, 7) , (27, 4) , (28, 5) , (29, 6) , (30, 3) , (30, 4) , (30, 5) , (30, 6) , (30, 7) }\n"
   ]
  },
  {
   "cell_type": "code",
   "execution_count": 62,
   "metadata": {},
   "outputs": [],
   "source": [
    "world = {(4, 3), (4, 4), (4, 5), (4, 6), (4, 7), (5, 3), (5, 5), (5, 7), (6, 3), (6, 7), (8, 3), (8, 4), (8, 5), (8, 6), (8, 7), (9, 3), (9, 7),  (10, 4), (10, 5), (10, 6), (12, 3), (13, 4), (13, 5), (13, 6), (13, 7), (14, 6), (15, 5), (15, 4), (16, 6), (17, 7), (17, 6), (17, 6), (17, 5), (17, 4), (18, 3), (20, 3) , (21, 3) , (22, 3) , (23, 3) , (24, 3) , (22, 4) , (22, 5) , (22, 6) , (22, 7) , (20, 7) , (21, 7) , (22, 7) , (23, 7), (24, 7) , (26, 3) , (26, 4) , (26, 5) , (26, 6) , (26, 7) , (27, 4) , (28, 5) , (29, 6) , (30, 3) , (30, 4) , (30, 5) , (30, 6) , (30, 7) }"
   ]
  },
  {
   "cell_type": "code",
   "execution_count": 63,
   "metadata": {},
   "outputs": [],
   "source": [
    "def run(world, n):\n",
    "    \"Run the world for n generations. No display; just return the nth generation.\"\n",
    "    for g in range(n):\n",
    "        world = next_generation(world)\n",
    "    return world"
   ]
  },
  {
   "cell_type": "code",
   "execution_count": 64,
   "metadata": {},
   "outputs": [
    {
     "data": {
      "text/plain": [
       "{(8, 8),\n",
       " (8, 9),\n",
       " (9, 8),\n",
       " (9, 9),\n",
       " (13, 10),\n",
       " (14, 9),\n",
       " (14, 11),\n",
       " (15, 9),\n",
       " (15, 11),\n",
       " (16, 10),\n",
       " (28, 4),\n",
       " (28, 5),\n",
       " (28, 6)}"
      ]
     },
     "execution_count": 64,
     "metadata": {},
     "output_type": "execute_result"
    }
   ],
   "source": [
    "run(world, 100)"
   ]
  },
  {
   "cell_type": "code",
   "execution_count": 65,
   "metadata": {},
   "outputs": [],
   "source": [
    "import time\n",
    "from IPython.display import clear_output, display_html\n",
    "\n",
    "LIVE  = '0'\n",
    "EMPTY = ' '\n",
    "PAD   = ' '\n",
    "\n",
    "def display_run(world, n=10, Xs=range(10), Ys=range(10), pause=0.1):\n",
    "    \"Step and display the world for the given number of generations.\"\n",
    "    for g in range(n + 1):\n",
    "        clear_output()\n",
    "        display_html('Numero de Iteraciones {}, Celulas Vivas {}\\n{}'\n",
    "                     .format(g, len(world), pre(picture(world, Xs, Ys))), \n",
    "                     raw=True)\n",
    "        time.sleep(pause)\n",
    "        world = next_generation(world)\n",
    "        \n",
    "def pre(text): return '<pre>' + text + '</pre>'\n",
    "        \n",
    "def picture(world, Xs, Ys):\n",
    "    \"Return a picture: a grid of characters representing the cells in this window.\"\n",
    "    def row(y): return PAD.join(LIVE if (x, y) in world else EMPTY for x in Xs)\n",
    "    return '\\n'.join(row(y) for y in Ys)"
   ]
  },
  {
   "cell_type": "code",
   "execution_count": 66,
   "metadata": {
    "scrolled": true
   },
   "outputs": [
    {
     "name": "stdout",
     "output_type": "stream",
     "text": [
      "- - - - - - - - - - - - - - - - - - - - - - - - - - - - - - - - - - -\n",
      "- - - - - - - - - - - - - - - - - - - - - - - - - - - - - - - - - - -\n",
      "- - - - - - - - - - - - - - - - - - - - - - - - - - - - - - - - - - -\n",
      "- - - - 0 0 0 - 0 0 - - 0 - - - - - 0 - 0 0 0 0 0 - 0 - - - 0 - - - -\n",
      "- - - - 0 - - - 0 - 0 - - 0 - 0 - 0 - - - - 0 - - - 0 0 - - 0 - - - -\n",
      "- - - - 0 0 - - 0 - 0 - - 0 - 0 - 0 - - - - 0 - - - 0 - 0 - 0 - - - -\n",
      "- - - - 0 - - - 0 - 0 - - 0 0 - 0 0 - - - - 0 - - - 0 - - 0 0 - - - -\n",
      "- - - - 0 0 0 - 0 0 - - - 0 - - - 0 - - 0 0 0 0 0 - 0 - - - 0 - - - -\n",
      "- - - - - - - - - - - - - - - - - - - - - - - - - - - - - - - - - - -\n",
      "- - - - - - - - - - - - - - - - - - - - - - - - - - - - - - - - - - -\n",
      "- - - - - - - - - - - - - - - - - - - - - - - - - - - - - - - - - - -\n",
      "- - - - - - - - - - - - - - - - - - - - - - - - - - - - - - - - - - -\n",
      "- - - - - - - - - - - - - - - - - - - - - - - - - - - - - - - - - - -\n",
      "- - - - - - - - - - - - - - - - - - - - - - - - - - - - - - - - - - -\n",
      "- - - - - - - - - - - - - - - - - - - - - - - - - - - - - - - - - - -\n"
     ]
    }
   ],
   "source": [
    "print(picture(world, range(35), range(15)))"
   ]
  },
  {
   "cell_type": "code",
   "execution_count": 67,
   "metadata": {},
   "outputs": [
    {
     "data": {
      "text/html": [
       "Numero de Iteraciones 20, Celulas Vivas 27\n",
       "<pre>- - - - - - - - - - - - - - - - - - - - - - - - - - - - - - - - - - - - - - - - - - - - - - - - - -\n",
       "- - - - - - - - - - - - - - - - - - - - - - - - - - - - - - - - - - - - - - - - - - - - - - - - - -\n",
       "- - - - - - - - - - - - - - - - - - - - - - - - - - - - - - 0 - - - - - - - - - - - - - - - - - - -\n",
       "- - - - - - - - - - - - - - - - - - - - - - - - - - - 0 0 0 - 0 - - - - - - - - - - - - - - - - - -\n",
       "- - - - - - - - - - - - - - - - - - - - - - - - 0 - - 0 0 - - - 0 - - - - - - - - - - - - - - - - -\n",
       "- - - - - - - - - - - - - - - - - - - - - - - - - - - - 0 - - 0 - - - - - - - - - - - - - - - - - -\n",
       "- - - - - - - - - - - - - - - - - - - - - - - - - - - - - - - - - - - - - - - - - - - - - - - - - -\n",
       "- - - - - - - - - - - - - - - - - - - - - - - - 0 0 0 0 - 0 - - - - - - - - - - - - - - - - - - - -\n",
       "- - - - - - - - 0 0 - - - - - - - - - - - - - - - - - - 0 - - - - - - - - - - - - - - - - - - - - -\n",
       "- - - - - - - - 0 0 - - - - 0 0 - - - - - - - - - - - - - - - - - - - - - - - - - - - - - - - - - -\n",
       "- - - - - - - - - - - - - 0 - - 0 - - - - - - - - - - - - - - - - - - - - - - - - - - - - - - - - -\n",
       "- - - - - - - - - - - - - - 0 0 - - - - - - - - - - - - - - - - - - - - - - - - - - - - - - - - - -\n",
       "- - - - - - - - - - - - - - - - - - - - - - - - - - - - - - - - - - - - - - - - - - - - - - - - - -\n",
       "- - - - - - - - - - - - - - - - - - - - - - - - - - - - - - - - - - - - - - - - - - - - - - - - - -\n",
       "- - - - - - - - - - - - - - - - - - - - - - - - - - - - - - - - - - - - - - - - - - - - - - - - - -</pre>"
      ]
     },
     "metadata": {},
     "output_type": "display_data"
    }
   ],
   "source": [
    "display_run(world, 20, range(50), range(15))"
   ]
  },
  {
   "attachments": {},
   "cell_type": "markdown",
   "metadata": {},
   "source": [
    "# Resultados \n",
    "\n",
    "#### Letra A\n",
    "\n",
    "<img src=\"A.JPG\">\n",
    "\n",
    "#### Letra E\n",
    "\n",
    "<img src=\"E.JPG\">\n",
    "\n",
    "#### Letra I\n",
    "\n",
    "<img src=\"I.JPG\">\n",
    "\n",
    "#### Letra O\n",
    "\n",
    "<img src=\"O.JPG\">\n",
    "\n",
    "#### Letra U\n",
    "\n",
    "<img src=\"U.JPG\">\n",
    "\n",
    "#### Letra H\n",
    "\n",
    "<img src=\"H.JPG\">"
   ]
  },
  {
   "cell_type": "code",
   "execution_count": null,
   "metadata": {},
   "outputs": [],
   "source": []
  }
 ],
 "metadata": {
  "kernelspec": {
   "display_name": "simulacion",
   "language": "python",
   "name": "simulacion"
  },
  "language_info": {
   "codemirror_mode": {
    "name": "ipython",
    "version": 3
   },
   "file_extension": ".py",
   "mimetype": "text/x-python",
   "name": "python",
   "nbconvert_exporter": "python",
   "pygments_lexer": "ipython3",
   "version": "3.7.3"
  }
 },
 "nbformat": 4,
 "nbformat_minor": 2
}
